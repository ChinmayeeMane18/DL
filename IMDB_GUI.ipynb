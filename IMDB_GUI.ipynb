{
 "cells": [
  {
   "cell_type": "code",
   "execution_count": 5,
   "id": "0e6f9266",
   "metadata": {},
   "outputs": [
    {
     "name": "stderr",
     "output_type": "stream",
     "text": [
      "C:\\Users\\abhij\\anaconda3\\lib\\site-packages\\scipy\\__init__.py:155: UserWarning: A NumPy version >=1.18.5 and <1.25.0 is required for this version of SciPy (detected version 1.26.1\n",
      "  warnings.warn(f\"A NumPy version >={np_minversion} and <{np_maxversion}\"\n"
     ]
    },
    {
     "name": "stdout",
     "output_type": "stream",
     "text": [
      "Epoch 1/5\n",
      "157/157 [==============================] - 34s 192ms/step - loss: 0.5453 - accuracy: 0.7251 - val_loss: 0.3481 - val_accuracy: 0.8482\n",
      "Epoch 2/5\n",
      "157/157 [==============================] - 29s 183ms/step - loss: 0.3015 - accuracy: 0.8878 - val_loss: 0.2957 - val_accuracy: 0.8724\n",
      "Epoch 3/5\n",
      "157/157 [==============================] - 28s 181ms/step - loss: 0.2369 - accuracy: 0.9187 - val_loss: 0.2962 - val_accuracy: 0.8760\n",
      "Epoch 4/5\n",
      "157/157 [==============================] - 29s 183ms/step - loss: 0.1954 - accuracy: 0.9362 - val_loss: 0.3116 - val_accuracy: 0.8724\n",
      "Epoch 5/5\n",
      "157/157 [==============================] - 29s 183ms/step - loss: 0.1655 - accuracy: 0.9470 - val_loss: 0.3814 - val_accuracy: 0.8632\n",
      "Training time: 148.47029209136963 seconds\n"
     ]
    }
   ],
   "source": [
    "import tensorflow as tf\n",
    "from tensorflow.keras.models import Sequential\n",
    "from tensorflow.keras.layers import Embedding, LSTM, Dense, Dropout\n",
    "from tensorflow.keras.preprocessing.sequence import pad_sequences\n",
    "from tensorflow.keras.preprocessing.text import Tokenizer\n",
    "from tkinter import Tk, Label, Text, Button\n",
    "import time\n",
    "\n",
    "# Load the IMDB dataset\n",
    "imdb = tf.keras.datasets.imdb\n",
    "(train_data, train_labels), (test_data, test_labels) = imdb.load_data(num_words=10000)\n",
    "\n",
    "# Preprocess the data\n",
    "max_len = 200\n",
    "train_data = pad_sequences(train_data, maxlen=max_len)\n",
    "test_data = pad_sequences(test_data, maxlen=max_len)\n",
    "\n",
    "# Define your model\n",
    "model = Sequential()\n",
    "model.add(Embedding(10000, 16, input_length=max_len))\n",
    "model.add(LSTM(32, dropout=0.2, recurrent_dropout=0.2))  \n",
    "model.add(Dense(16, activation='relu'))\n",
    "model.add(Dropout(0.5))\n",
    "model.add(Dense(1, activation='sigmoid'))  \n",
    "\n",
    "# Compile the model\n",
    "model.compile(optimizer='adam', loss='binary_crossentropy', metrics=['accuracy'])\n",
    "\n",
    "# Measure training time\n",
    "start_time = time.time()\n",
    "\n",
    "# Train the model\n",
    "model.fit(train_data, train_labels, epochs=5, batch_size=128, validation_split=0.2)\n",
    "\n",
    "end_time = time.time()\n",
    "training_time = end_time - start_time\n",
    "print(\"Training time:\", training_time, \"seconds\")"
   ]
  },
  {
   "cell_type": "code",
   "execution_count": null,
   "id": "2d3a0db7",
   "metadata": {},
   "outputs": [],
   "source": []
  },
  {
   "cell_type": "code",
   "execution_count": 9,
   "id": "78230512",
   "metadata": {},
   "outputs": [
    {
     "name": "stdout",
     "output_type": "stream",
     "text": [
      "1/1 [==============================] - 1s 702ms/step\n"
     ]
    }
   ],
   "source": [
    "# Create a simple GUI using Tkinter\n",
    "window = Tk()\n",
    "window.title(\"Movie Review Classifier\")\n",
    "\n",
    "# Create GUI components\n",
    "label = Label(window, text=\"Enter your movie review:\")\n",
    "label.pack()\n",
    "\n",
    "text_box = Text(window, height=5, width=50)\n",
    "text_box.pack()\n",
    "\n",
    "result_label = Label(window, text=\"\")\n",
    "result_label.pack()\n",
    "\n",
    "def classify_review():\n",
    "    review_text = text_box.get(\"1.0\", 'end-1c')\n",
    "    # Tokenize the review text\n",
    "    tokenizer = Tokenizer(num_words=10000)\n",
    "    tokenizer.fit_on_texts([review_text])\n",
    "    review_seq = tokenizer.texts_to_sequences([review_text])\n",
    "    review_pad = pad_sequences(review_seq, maxlen=max_len)\n",
    "    \n",
    "    # Perform prediction and measure prediction time\n",
    "    start_time = time.time()\n",
    "    prediction = model.predict(review_pad)\n",
    "    end_time = time.time()\n",
    "    prediction_time = end_time - start_time\n",
    "    \n",
    "    # Determine sentiment\n",
    "    sentiment = \"Positive\" if prediction > 0.5 else \"Negative\"\n",
    "    \n",
    "    # Update result label with prediction and prediction time\n",
    "    result_label.config(text=f'Prediction: {sentiment}, Prediction Time: {prediction_time:.4f} seconds')\n",
    "\n",
    "classify_button = Button(window, text=\"Classify\", command=classify_review)\n",
    "classify_button.pack()\n",
    "\n",
    "window.mainloop()\n"
   ]
  },
  {
   "cell_type": "code",
   "execution_count": null,
   "id": "bf195384",
   "metadata": {},
   "outputs": [],
   "source": []
  }
 ],
 "metadata": {
  "kernelspec": {
   "display_name": "Python 3 (ipykernel)",
   "language": "python",
   "name": "python3"
  },
  "language_info": {
   "codemirror_mode": {
    "name": "ipython",
    "version": 3
   },
   "file_extension": ".py",
   "mimetype": "text/x-python",
   "name": "python",
   "nbconvert_exporter": "python",
   "pygments_lexer": "ipython3",
   "version": "3.9.13"
  }
 },
 "nbformat": 4,
 "nbformat_minor": 5
}
